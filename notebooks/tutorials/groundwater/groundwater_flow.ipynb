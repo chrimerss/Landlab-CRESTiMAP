{
 "cells": [
  {
   "cell_type": "markdown",
   "metadata": {},
   "source": [
    "<a href=\"http://landlab.github.io\"><img style=\"float: left\" src=\"../../landlab_header.png\"></a>"
   ]
  },
  {
   "cell_type": "markdown",
   "metadata": {},
   "source": [
    "# Modeling groundwater flow in a conceptual catchment\n",
    "\n",
    "<hr>\n",
    "<small>For more Landlab tutorials, click here: <a href=\"https://landlab.readthedocs.io/en/latest/user_guide/tutorials.html\">https://landlab.readthedocs.io/en/latest/user_guide/tutorials.html</a></small>\n",
    "<hr>\n",
    "\n",
    "This tutorial demonstrates how the GroundwaterDupuitPercolator can be used to model groundwater flow and seepage (groundwater return flow). It is recommended to read the documentation for the component before starting this tutorial to be familiar with the mechanics of the model.\n",
    "\n",
    "In this tutorial you will:\n",
    "* Create a raster grid on which to run the model\n",
    "* Simulate constant recharge and check that the component conserves mass\n",
    "* Confirm conservation of mass when the recharge rate and timestep are changed\n",
    "* Simulate recharge from storm events, check conservation of mass, and look at the outflow hydrograph\n",
    "* Learn how to set fixed gradient boundaries and set values for the hydraulic gradient"
   ]
  },
  {
   "cell_type": "markdown",
   "metadata": {},
   "source": [
    "### Import libraries"
   ]
  },
  {
   "cell_type": "code",
   "execution_count": 1,
   "metadata": {},
   "outputs": [],
   "source": [
    "import numpy as np\n",
    "import matplotlib.pyplot as plt\n",
    "\n",
    "from landlab import RasterModelGrid, imshow_grid\n",
    "from landlab.components import GroundwaterDupuitPercolator, FlowAccumulator\n",
    "from landlab.components.uniform_precip import PrecipitationDistribution"
   ]
  },
  {
   "cell_type": "markdown",
   "metadata": {},
   "source": [
    "## Create a RasterModelGrid\n",
    "\n",
    "Here you will make the grid on which we will run the model. You will create three fields: topographic elevation, aquifer base elevation, and initial water table elevation"
   ]
  },
  {
   "cell_type": "code",
   "execution_count": 2,
   "metadata": {},
   "outputs": [],
   "source": [
    "boundaries = {'top': 'closed','bottom': 'closed','right':'closed','left':'closed'}\n",
    "grid = RasterModelGrid((51, 51), xy_spacing=10.0, bc=boundaries)\n",
    "grid.status_at_node[1] = grid.BC_NODE_IS_FIXED_VALUE\n",
    "\n",
    "elev = grid.add_zeros('node', 'topographic__elevation')\n",
    "elev[:] = (0.001*grid.x_of_node**2 + 0.001*grid.y_of_node**2)+2\n",
    "\n",
    "base = grid.add_zeros('node', 'aquifer_base__elevation')\n",
    "base[:] = elev - 2\n",
    "\n",
    "wt = grid.add_zeros('node', 'water_table__elevation')\n",
    "wt[:] = elev"
   ]
  },
  {
   "cell_type": "code",
   "execution_count": 3,
   "metadata": {},
   "outputs": [
    {
     "data": {
      "text/plain": [
       "<Figure size 432x288 with 0 Axes>"
      ]
     },
     "execution_count": 3,
     "metadata": {},
     "output_type": "execute_result"
    },
    {
     "name": "stderr",
     "output_type": "stream",
     "text": [
      "/Users/allen/Documents/Python/landlab/landlab/plot/imshow.py:267: MatplotlibDeprecationWarning: You are modifying the state of a globally registered colormap. In future versions, you will not be able to modify a registered colormap in-place. To remove this warning, you can make a copy of the colormap first. cmap = copy.copy(mpl.cm.get_cmap(\"pink\"))\n",
      "  cmap.set_bad(color=color_for_closed)\n",
      "/Users/allen/Documents/Python/landlab/landlab/plot/imshow.py:307: MatplotlibDeprecationWarning: The 'norm' parameter to Colorbar has no effect because it is overridden by the mappable; it is deprecated since 3.3 and will be removed two minor releases later.\n",
      "  cb = plt.colorbar(norm=norm, shrink=shrink)\n"
     ]
    },
    {
     "data": {
      "image/png": "[encoded data removed]",
      "text/plain": [
       "<Figure size 432x288 with 2 Axes>"
      ]
     },
     "metadata": {
      "needs_background": "light"
     },
     "output_type": "display_data"
    }
   ],
   "source": [
    "plt.figure()\n",
    "imshow_grid(grid,'topographic__elevation')"
   ]
  },
  {
   "cell_type": "markdown",
   "metadata": {},
   "source": [
    "The grid is square with dimensions 500x500m. The surface elevation and aquifer base have the same concave parabolic shape, with thickness 2m between them. The aquifer is initially fully saturated (water table at the surface). Water is only allowed to exit the domain through a single node in the the lower left corner. All other boundaries are closed.  "
   ]
  },
  {
   "cell_type": "markdown",
   "metadata": {},
   "source": [
    "## Simulate constant groundwater recharge\n",
    "\n",
    "Now initialize the model components. In addition to the grid, the GroundwaterDupuitPercolator takes four optional arguments: hydraulic conductivity, porosity, recharge rate, and a regularization factor that smooths the transition between subsurface and surface flow as the water table approaches the ground surface. The greater the value, the smoother the transition.\n",
    "\n",
    "You will also initialize a FlowAccumulator in order to use an included method to calculate the surface water discharge out of the domain. The runoff rate used by the FlowAccumulator is the surface water specific discharge from the groundwater model."
   ]
  },
  {
   "cell_type": "code",
   "execution_count": 4,
   "metadata": {},
   "outputs": [],
   "source": [
    "K = 0.01 # hydraulic conductivity, (m/s)\n",
    "R = 0 #1e-7 # recharge rate, (m/s)\n",
    "n = 0.2 # porosity, (-)\n",
    "gdp = GroundwaterDupuitPercolator(\n",
    "    grid, \n",
    "    hydraulic_conductivity=K, \n",
    "    porosity=n, \n",
    "    recharge_rate=R,\n",
    "    regularization_f=0.01)\n",
    "fa = FlowAccumulator(\n",
    "    grid, \n",
    "    surface='topographic__elevation',\n",
    "    flow_director='FlowDirectorSteepest', \n",
    "    runoff_rate='surface_water__specific_discharge')"
   ]
  },
  {
   "cell_type": "markdown",
   "metadata": {},
   "source": [
    "Next, run the model forward in time, and track the fluxes leaving the domain."
   ]
  },
  {
   "cell_type": "code",
   "execution_count": 5,
   "metadata": {},
   "outputs": [],
   "source": [
    "N = 500\n",
    "dt = 1E2\n",
    "\n",
    "recharge_flux = np.zeros(N)\n",
    "gw_flux = np.zeros(N)\n",
    "sw_flux = np.zeros(N)\n",
    "storage = np.zeros(N)\n",
    "s0 = gdp.calc_total_storage()\n",
    "\n",
    "for i in range(N):    \n",
    "    gdp.run_one_step(dt)  \n",
    "    fa.run_one_step()\n",
    "    \n",
    "    storage[i] = gdp.calc_total_storage()\n",
    "    recharge_flux[i] = gdp.calc_recharge_flux_in()\n",
    "    gw_flux[i] = gdp.calc_gw_flux_out()\n",
    "    sw_flux[i] = gdp.calc_sw_flux_out()\n",
    "    "
   ]
  },
  {
   "cell_type": "markdown",
   "metadata": {},
   "source": [
    "Now visualize some results."
   ]
  },
  {
   "cell_type": "code",
   "execution_count": 6,
   "metadata": {},
   "outputs": [
    {
     "data": {
      "text/plain": [
       "<Figure size 432x288 with 0 Axes>"
      ]
     },
     "execution_count": 6,
     "metadata": {},
     "output_type": "execute_result"
    },
    {
     "name": "stderr",
     "output_type": "stream",
     "text": [
      "/Users/allen/Documents/Python/landlab/landlab/plot/imshow.py:267: MatplotlibDeprecationWarning: You are modifying the state of a globally registered colormap. In future versions, you will not be able to modify a registered colormap in-place. To remove this warning, you can make a copy of the colormap first. cmap = copy.copy(mpl.cm.get_cmap(\"Blues\"))\n",
      "  cmap.set_bad(color=color_for_closed)\n"
     ]
    },
    {
     "data": {
      "image/png": "[encoded data removed]",
      "text/plain": [
       "<Figure size 432x288 with 2 Axes>"
      ]
     },
     "metadata": {
      "needs_background": "light"
     },
     "output_type": "display_data"
    }
   ],
   "source": [
    "plt.figure()\n",
    "imshow_grid(grid,(wt-base)/(elev-base),cmap='Blues')"
   ]
  },
  {
   "cell_type": "markdown",
   "metadata": {},
   "source": [
    "The above shows how saturated the aquifer is. Note that it is most saturated at the lowest area of the domain, nearest the outlet.\n",
    "\n",
    "Now look at the mass balance by ploting cumulative fluxes. The cumulative recharge in should be equal to cumulative fluxes out (groundwater and surface water) plus the change in storage from the initial condition."
   ]
  },
  {
   "cell_type": "code",
   "execution_count": 7,
   "metadata": {},
   "outputs": [
    {
     "data": {
      "text/plain": [
       "<Figure size 576x432 with 0 Axes>"
      ]
     },
     "execution_count": 7,
     "metadata": {},
     "output_type": "execute_result"
    },
    {
     "data": {
      "text/plain": [
       "[<matplotlib.lines.Line2D at 0x7f8131ef8070>]"
      ]
     },
     "execution_count": 7,
     "metadata": {},
     "output_type": "execute_result"
    },
    {
     "data": {
      "text/plain": [
       "[<matplotlib.lines.Line2D at 0x7f8131ef8460>]"
      ]
     },
     "execution_count": 7,
     "metadata": {},
     "output_type": "execute_result"
    },
    {
     "data": {
      "text/plain": [
       "[<matplotlib.lines.Line2D at 0x7f8131ef8370>]"
      ]
     },
     "execution_count": 7,
     "metadata": {},
     "output_type": "execute_result"
    },
    {
     "data": {
      "text/plain": [
       "[<matplotlib.lines.Line2D at 0x7f8131ef8730>]"
      ]
     },
     "execution_count": 7,
     "metadata": {},
     "output_type": "execute_result"
    },
    {
     "data": {
      "text/plain": [
       "[<matplotlib.lines.Line2D at 0x7f8131ef8ee0>]"
      ]
     },
     "execution_count": 7,
     "metadata": {},
     "output_type": "execute_result"
    },
    {
     "data": {
      "text/plain": [
       "Text(0, 0.5, 'Cumulative Volume $[m^3]$')"
      ]
     },
     "execution_count": 7,
     "metadata": {},
     "output_type": "execute_result"
    },
    {
     "data": {
      "text/plain": [
       "Text(0.5, 0, 'Time [h]')"
      ]
     },
     "execution_count": 7,
     "metadata": {},
     "output_type": "execute_result"
    },
    {
     "data": {
      "text/plain": [
       "<matplotlib.legend.Legend at 0x7f8131ef8340>"
      ]
     },
     "execution_count": 7,
     "metadata": {},
     "output_type": "execute_result"
    },
    {
     "data": {
      "image/png": "[encoded data removed]",
      "text/plain": [
       "<Figure size 576x432 with 1 Axes>"
      ]
     },
     "metadata": {
      "needs_background": "light"
     },
     "output_type": "display_data"
    }
   ],
   "source": [
    "t = np.arange(0,N*dt,dt)\n",
    "\n",
    "plt.figure(figsize=(8,6))\n",
    "plt.plot(t/3600,\n",
    "         np.cumsum(gw_flux)*dt+np.cumsum(sw_flux)*dt+storage-s0,\n",
    "         'b-',\n",
    "         linewidth=3, \n",
    "         alpha=0.5,\n",
    "         label='Total Fluxes + Storage')\n",
    "plt.plot(t/3600,np.cumsum(recharge_flux)*dt-recharge_flux[0]*dt,'k:',label='recharge flux')\n",
    "plt.plot(t/3600,np.cumsum(gw_flux)*dt,'b:',label='groundwater flux')\n",
    "plt.plot(t/3600,np.cumsum(sw_flux)*dt,'g:',label='surface water flux')\n",
    "plt.plot(t/3600,storage-s0, 'r:', label='storage')\n",
    "plt.ylabel('Cumulative Volume $[m^3]$')\n",
    "plt.xlabel('Time [h]')\n",
    "plt.legend(frameon=False)\n",
    "plt.show()"
   ]
  },
  {
   "cell_type": "markdown",
   "metadata": {},
   "source": [
    "The thick blue line (cumulative fluxes plus storage) matches the black cumulative recharge flux line, which indicates that the model has conserved mass. Because the initial domain was fully saturated, the primary feature that shows up in this mass balance is the loss of that initial water. It will be easier to see what is going on here in the second example. "
   ]
  },
  {
   "cell_type": "markdown",
   "metadata": {},
   "source": [
    "### Check conservation of mass with changing recharge"
   ]
  },
  {
   "cell_type": "markdown",
   "metadata": {},
   "source": [
    "Now check to confirm that mass is conserved with different recharge rates."
   ]
  },
  {
   "cell_type": "code",
   "execution_count": 8,
   "metadata": {},
   "outputs": [
    {
     "name": "stderr",
     "output_type": "stream",
     "text": [
      "/Users/allen/Documents/Python/landlab/landlab/components/groundwater/dupuit_percolator.py:623: UserWarning: water table above elevation surface. Setting water table elevation here to elevation surface\n",
      "  warn(\n"
     ]
    }
   ],
   "source": [
    "wt0 = wt.copy()\n",
    "\n",
    "K = 0.01 # hydraulic conductivity, (m/s)\n",
    "R = np.array([1e-5, 1e-6, 1e-7, 1e-8]) # recharge rate, (m/s)\n",
    "por = 0.2 # porosity, (-)\n",
    "\n",
    "f_in = np.zeros(len(R))\n",
    "f_out = np.zeros(len(R))\n",
    "\n",
    "for n in range(len(R)):\n",
    "    \n",
    "    boundaries = {'top': 'closed','bottom': 'closed','right':'closed','left':'closed'}\n",
    "    grid = RasterModelGrid((51, 51), xy_spacing=10.0, bc=boundaries)\n",
    "    grid.status_at_node[1] = grid.BC_NODE_IS_FIXED_VALUE\n",
    "\n",
    "    elev = grid.add_zeros('node', 'topographic__elevation')\n",
    "    elev[:] = (0.001*grid.x_of_node**2 + 0.001*grid.y_of_node**2)+2\n",
    "\n",
    "    base = grid.add_zeros('node', 'aquifer_base__elevation')\n",
    "    base[:] = elev - 2\n",
    "\n",
    "    wt = grid.add_zeros('node', 'water_table__elevation')\n",
    "    wt[:] = wt0.copy()\n",
    "\n",
    "    gdp = GroundwaterDupuitPercolator(\n",
    "        grid, \n",
    "        hydraulic_conductivity=K, \n",
    "        porosity=por, \n",
    "        recharge_rate=R[n],\n",
    "        regularization_f=0.01, \n",
    "        courant_coefficient=0.1)\n",
    "    fa = FlowAccumulator(\n",
    "        grid, \n",
    "        surface='topographic__elevation',\n",
    "        flow_director='FlowDirectorSteepest', \n",
    "        runoff_rate='surface_water__specific_discharge')\n",
    "    \n",
    "    N = 250\n",
    "    dt = 1E2\n",
    "\n",
    "    recharge_flux = np.zeros(N)\n",
    "    gw_flux = np.zeros(N)\n",
    "    sw_flux = np.zeros(N)\n",
    "    storage = np.zeros(N)\n",
    "    s0 = gdp.calc_total_storage()\n",
    "\n",
    "    for i in range(N):\n",
    "\n",
    "        gdp.run_one_step(dt)\n",
    "        fa.run_one_step()\n",
    "        \n",
    "        recharge_flux[i] = gdp.calc_recharge_flux_in()\n",
    "        gw_flux[i] = gdp.calc_gw_flux_out()\n",
    "        sw_flux[i] = gdp.calc_sw_flux_out()\n",
    "        storage[i] = gdp.calc_total_storage()\n",
    "\n",
    "    f_in[n] = np.sum(recharge_flux)*dt\n",
    "    f_out[n] = np.sum(gw_flux)*dt+np.sum(sw_flux)*dt+storage[-1]-s0\n"
   ]
  },
  {
   "cell_type": "markdown",
   "metadata": {},
   "source": [
    "The code above simulates the evolution of the water table under four different recharge rates, and calculates the fluxes across the domain boundaries and the change in storage. It then sums the fluxes to find out the total volume in and out and change in storage. Below we visualize how flow in compares with flow out plus storage change. If mass is conserved they should be the same."
   ]
  },
  {
   "cell_type": "code",
   "execution_count": 9,
   "metadata": {},
   "outputs": [
    {
     "data": {
      "text/plain": [
       "<Figure size 432x288 with 0 Axes>"
      ]
     },
     "execution_count": 9,
     "metadata": {},
     "output_type": "execute_result"
    },
    {
     "data": {
      "text/plain": [
       "[<matplotlib.lines.Line2D at 0x7f81324063a0>]"
      ]
     },
     "execution_count": 9,
     "metadata": {},
     "output_type": "execute_result"
    },
    {
     "data": {
      "text/plain": [
       "[<matplotlib.lines.Line2D at 0x7f8132406820>]"
      ]
     },
     "execution_count": 9,
     "metadata": {},
     "output_type": "execute_result"
    },
    {
     "data": {
      "text/plain": [
       "<matplotlib.legend.Legend at 0x7f8132417190>"
      ]
     },
     "execution_count": 9,
     "metadata": {},
     "output_type": "execute_result"
    },
    {
     "data": {
      "text/plain": [
       "Text(0, 0.5, 'flux out + storage $(m^3)$')"
      ]
     },
     "execution_count": 9,
     "metadata": {},
     "output_type": "execute_result"
    },
    {
     "data": {
      "text/plain": [
       "Text(0.5, 0, 'flux in $(m^3)$')"
      ]
     },
     "execution_count": 9,
     "metadata": {},
     "output_type": "execute_result"
    },
    {
     "data": {
      "image/png": "[encoded data removed]",
      "text/plain": [
       "<Figure size 432x288 with 1 Axes>"
      ]
     },
     "metadata": {
      "needs_background": "light"
     },
     "output_type": "display_data"
    }
   ],
   "source": [
    "x11 = np.linspace(0,max(f_in))\n",
    "\n",
    "plt.figure()\n",
    "plt.loglog(x11,x11,'r--', label='1:1')\n",
    "plt.loglog(f_in,f_out,'.',markersize=10)\n",
    "plt.legend(frameon=False)\n",
    "plt.ylabel('flux out + storage $(m^3)$')\n",
    "plt.xlabel('flux in $(m^3)$')\n",
    "plt.show()"
   ]
  },
  {
   "cell_type": "markdown",
   "metadata": {},
   "source": [
    "The trials plot close to the 1:1 line, showing that we are close to mass conservation. Just how close? Calculate the relative error below."
   ]
  },
  {
   "cell_type": "code",
   "execution_count": 10,
   "metadata": {},
   "outputs": [
    {
     "data": {
      "text/plain": [
       "array([  4.42282458e-05,   8.33677223e-09,  -2.90403761e-09,\n",
       "        -1.78236752e-08])"
      ]
     },
     "execution_count": 10,
     "metadata": {},
     "output_type": "execute_result"
    }
   ],
   "source": [
    "(f_in-f_out)/f_in"
   ]
  },
  {
   "cell_type": "markdown",
   "metadata": {},
   "source": [
    "### Check conservation of mass with changing timestep"
   ]
  },
  {
   "cell_type": "markdown",
   "metadata": {},
   "source": [
    "To check conservation of mass with different timesteps, we will use the method `run_with_adaptive_time_step_solver` to ensure the model remains stable. This method is the same as run_one_step, except that it subdivides the provided timestep (event or inter-event duration in this case) in order to meet a Courant-type stability criterion.\n",
    "\n",
    "We can set the `courant_coefficient` either as an argument when we create the component, or by setting the attribute `gdp.courant_coefficient`. This value indicates how large the maximum allowed timestep is relative to the Courant limit. Values close to 0.1 are recommended for best results.\n",
    "\n",
    "For efficiency, fluxes are only calculated at the end of each large timestep when using `run_with_adaptive_time_step_solver`, not during the internally subdivided timesteps. As a result, deviations from mass conservation are possible."
   ]
  },
  {
   "cell_type": "code",
   "execution_count": null,
   "metadata": {},
   "outputs": [],
   "source": [
    "wt0 = wt.copy()\n",
    "\n",
    "K = 0.01 # hydraulic conductivity, (m/s)\n",
    "R = 1e-7 # recharge rate, (m/s)\n",
    "por = 0.2 # porosity, (-)\n",
    "N_all = np.array([10,50,100,500,1000]) # number of timesteps\n",
    "T = 24*3600 # total time\n",
    "dt_all = T/N_all # timestep\n",
    "gdp.courant_coefficient = 0.2\n",
    "\n",
    "f_in = np.zeros(len(N_all))\n",
    "f_out = np.zeros(len(N_all))\n",
    "\n",
    "for n in range(len(N_all)):\n",
    "    \n",
    "    boundaries = {'top': 'closed','bottom': 'closed','right':'closed','left':'closed'}\n",
    "    grid = RasterModelGrid((51, 51), xy_spacing=10.0, bc=boundaries)\n",
    "    grid.status_at_node[1] = grid.BC_NODE_IS_FIXED_VALUE\n",
    "\n",
    "    elev = grid.add_zeros('node', 'topographic__elevation')\n",
    "    elev[:] = (0.001*grid.x_of_node**2 + 0.001*grid.y_of_node**2)+2\n",
    "\n",
    "    base = grid.add_zeros('node', 'aquifer_base__elevation')\n",
    "    base[:] = elev - 2\n",
    "\n",
    "    wt = grid.add_zeros('node', 'water_table__elevation')\n",
    "    wt[:] = wt0.copy()\n",
    "\n",
    "    gdp = GroundwaterDupuitPercolator(\n",
    "        grid, \n",
    "        hydraulic_conductivity=K, \n",
    "        porosity=por, \n",
    "        recharge_rate=R,\n",
    "        regularization_f=0.01, \n",
    "        courant_coefficient=0.1)\n",
    "    fa = FlowAccumulator(\n",
    "        grid, \n",
    "        surface='topographic__elevation',\n",
    "        flow_director='FlowDirectorSteepest', \n",
    "        runoff_rate='surface_water__specific_discharge')\n",
    "    \n",
    "    N = N_all[n]\n",
    "    dt = dt_all[n]\n",
    "\n",
    "    recharge_flux = np.zeros(N)\n",
    "    gw_flux = np.zeros(N)\n",
    "    sw_flux = np.zeros(N)\n",
    "    storage = np.zeros(N)\n",
    "    s0 = gdp.calc_total_storage()\n",
    "    \n",
    "    for i in range(N):\n",
    "        \n",
    "        gdp.run_with_adaptive_time_step_solver(dt)\n",
    "\n",
    "        fa.run_one_step()\n",
    "        \n",
    "        recharge_flux[i] = gdp.calc_recharge_flux_in()\n",
    "        gw_flux[i] = gdp.calc_gw_flux_out()\n",
    "        sw_flux[i] = gdp.calc_sw_flux_out()\n",
    "        storage[i] = gdp.calc_total_storage()\n",
    "\n",
    "    f_in[n] = np.sum(recharge_flux)*dt\n",
    "    f_out[n] = np.sum(gw_flux)*dt+np.sum(sw_flux)*dt+storage[-1]-s0\n"
   ]
  },
  {
   "cell_type": "markdown",
   "metadata": {},
   "source": [
    "The code above simulates the evolution of the water table for the same total amount of time, but using four different values for the timestep. Just as before, fluxes and storage are calculated, along with their totals. Again, look at the relative error in mass conservation."
   ]
  },
  {
   "cell_type": "code",
   "execution_count": null,
   "metadata": {},
   "outputs": [],
   "source": [
    "(f_in-f_out)/f_in"
   ]
  },
  {
   "cell_type": "markdown",
   "metadata": {},
   "source": [
    "## Simulate time-varying recharge\n",
    "\n",
    "Lastly, simulate time-varying recharge, look at the mass balance, and the outflow hydrograph. This will use the same grid and groundwater model instance as above, taking the final condition of the previous model run as the new initial condition here. This time the adaptive timestep solver will be used to make sure the model remains stable.\n",
    "\n",
    "First, we need a distribution of recharge events. We will use landlab's precipitation distribution tool to create a lists paired recharge events and intensities."
   ]
  },
  {
   "cell_type": "code",
   "execution_count": null,
   "metadata": {},
   "outputs": [],
   "source": [
    "#generate storm timeseries\n",
    "T = 10*24*3600 #sec\n",
    "Tr = 1*3600 #sec\n",
    "Td = 24*3600 #sec\n",
    "dt = 1e3 #sec\n",
    "p = 1e-3 #m\n",
    "\n",
    "precip = PrecipitationDistribution(\n",
    "    mean_storm_duration=Tr, \n",
    "    mean_interstorm_duration=Td, \n",
    "    mean_storm_depth=p, \n",
    "    total_t=T, \n",
    "    delta_t=dt)\n",
    "durations = []\n",
    "intensities = []\n",
    "precip.seed_generator(seedval=1)\n",
    "for (interval_duration, rainfall_rate_in_interval) in (\n",
    "                precip.yield_storm_interstorm_duration_intensity(subdivide_interstorms=True)\n",
    "):\n",
    "    durations.append(interval_duration)\n",
    "    intensities.append(rainfall_rate_in_interval)\n",
    "N = len(durations)  "
   ]
  },
  {
   "cell_type": "markdown",
   "metadata": {},
   "source": [
    "Next, run the model forward with the adaptive timestep solver."
   ]
  },
  {
   "cell_type": "code",
   "execution_count": null,
   "metadata": {},
   "outputs": [],
   "source": [
    "recharge_flux = np.zeros(N)\n",
    "gw_flux = np.zeros(N)\n",
    "sw_flux = np.zeros(N)\n",
    "storage = np.zeros(N)\n",
    "s0 = gdp.calc_total_storage()\n",
    "num_substeps = np.zeros(N)\n",
    "\n",
    "gdp.courant_coefficient = 0.2\n",
    "\n",
    "for i in range(N):\n",
    "    gdp.recharge = intensities[i]*np.ones_like(gdp.recharge)\n",
    "    \n",
    "    gdp.run_with_adaptive_time_step_solver(durations[i])\n",
    "    fa.run_one_step()\n",
    "    \n",
    "    num_substeps[i] = gdp.number_of_substeps\n",
    "    recharge_flux[i] = gdp.calc_recharge_flux_in()\n",
    "    gw_flux[i] = gdp.calc_gw_flux_out()\n",
    "    sw_flux[i] = gdp.calc_sw_flux_out()\n",
    "    storage[i] = gdp.calc_total_storage()\n",
    "\n"
   ]
  },
  {
   "cell_type": "markdown",
   "metadata": {},
   "source": [
    "Again, visualize the mass balance:"
   ]
  },
  {
   "cell_type": "code",
   "execution_count": null,
   "metadata": {},
   "outputs": [],
   "source": [
    "t = np.cumsum(durations)\n",
    "\n",
    "plt.figure()\n",
    "plt.plot(t/3600,\n",
    "         np.cumsum(gw_flux*durations)+np.cumsum(sw_flux*durations)+storage-s0,\n",
    "         'b-',\n",
    "         linewidth=3, \n",
    "         alpha=0.5,\n",
    "         label='Total Fluxes + Storage')\n",
    "plt.plot(t/3600,np.cumsum(recharge_flux*durations),'k:',label='recharge flux')\n",
    "plt.plot(t/3600,np.cumsum(gw_flux*durations),'b:',label='groundwater flux')\n",
    "plt.plot(t/3600,np.cumsum(sw_flux*durations),'g:',label='surface water flux')\n",
    "plt.plot(t/3600,storage-storage[0], 'r:', label='storage')\n",
    "plt.ylabel('Cumulative Volume $[m^3]$')\n",
    "plt.xlabel('Time [h]')\n",
    "plt.legend(frameon=False)\n",
    "plt.show()"
   ]
  },
  {
   "cell_type": "markdown",
   "metadata": {},
   "source": [
    "Visualize numer of substeps that the model took for stability:"
   ]
  },
  {
   "cell_type": "code",
   "execution_count": null,
   "metadata": {},
   "outputs": [],
   "source": [
    "plt.figure()\n",
    "plt.plot(num_substeps,'.')\n",
    "plt.xlabel('Iteration')\n",
    "plt.ylabel('Numer of Substeps')\n",
    "plt.yticks([1,5,10,15,20])\n",
    "plt.show()"
   ]
  },
  {
   "cell_type": "code",
   "execution_count": null,
   "metadata": {},
   "outputs": [],
   "source": [
    "max(num_substeps)"
   ]
  },
  {
   "cell_type": "markdown",
   "metadata": {},
   "source": [
    "The method has subdivided the timestep up to 18 times in order to meet the stability criterion. This is dependent on a number of factors, including the Courant coefficient, the hydraulic conductivity, and hydraulic gradient.\n",
    "\n",
    "Now look at the timeseries of recharge in and groundwater and surface water leaving the domain at the open node:"
   ]
  },
  {
   "cell_type": "code",
   "execution_count": null,
   "metadata": {},
   "outputs": [],
   "source": [
    "fig,ax = plt.subplots(figsize=(8,6))\n",
    "ax.plot(t/(3600*24),sw_flux, label='Surface water flux')\n",
    "ax.plot(t/(3600*24),gw_flux, label='Groundwater flux')\n",
    "ax.set_ylim((0,0.04))\n",
    "ax.set_ylabel('Flux out $[m^3/s]$')\n",
    "ax.set_xlabel('Time [d]')\n",
    "ax.legend(frameon=False,loc=7)\n",
    "ax1 = ax.twinx()\n",
    "ax1.plot(t/(3600*24),recharge_flux,'0.6')\n",
    "ax1.set_ylim((1.2,0))\n",
    "ax1.set_ylabel('Recharge flux in $[m^3/s]$')\n",
    "plt.show()"
   ]
  },
  {
   "cell_type": "markdown",
   "metadata": {},
   "source": [
    "The relationship between maximum flux that can be passed through the subsurface and the occurrence of groundwater seepage is clear from this figure."
   ]
  },
  {
   "cell_type": "markdown",
   "metadata": {},
   "source": [
    "## Using different boundary conditions"
   ]
  },
  {
   "cell_type": "markdown",
   "metadata": {},
   "source": [
    "So far, we have used the fixed fixed value \"open\" boundary condition, and zero flux \"closed\" boundary condition. Fixed gradient (von Neumann) boundary conditions are also supported by this component. When fixed value is selected, the water table elevation remains fixed on the specified boundary nodes. When fixed gradient is selected, the water table gradient on specified links remains fixed.\n",
    "\n",
    "Below is an example of setting fixed gradient links on one boundary."
   ]
  },
  {
   "cell_type": "code",
   "execution_count": null,
   "metadata": {},
   "outputs": [],
   "source": [
    "grid = RasterModelGrid((10, 10), xy_spacing=10.0)\n",
    "grid.set_status_at_node_on_edges(right=grid.BC_NODE_IS_CLOSED, top=grid.BC_NODE_IS_CLOSED, \\\n",
    "                              left=grid.BC_NODE_IS_CLOSED, bottom=grid.BC_NODE_IS_FIXED_GRADIENT)\n",
    "\n",
    "elev = grid.add_zeros('node', 'topographic__elevation')\n",
    "elev[:] =  (0.001*(grid.x_of_node-100)**2 + 0.0002*grid.y_of_node**2)+10\n",
    "base = grid.add_zeros('node', 'aquifer_base__elevation')\n",
    "base[:] = elev - 2\n",
    "wt = grid.add_zeros('node', 'water_table__elevation')\n",
    "wt[:] = elev\n",
    "\n",
    "gdp = GroundwaterDupuitPercolator(grid)"
   ]
  },
  {
   "cell_type": "markdown",
   "metadata": {},
   "source": [
    "Say we want to set the bottom boundary gradients to be equal to the slope of the topographic surface. This can be done simply as follows:"
   ]
  },
  {
   "cell_type": "code",
   "execution_count": null,
   "metadata": {},
   "outputs": [],
   "source": [
    "#calculate surface slopes\n",
    "S = grid.calc_grad_at_link(elev)\n",
    "\n",
    "# assign hydraulic gradient at fixed linlks to be the surface slope there\n",
    "grid.at_link['hydraulic__gradient'][grid.fixed_links] = S[grid.fixed_links]\n",
    "\n",
    "grid.at_link['hydraulic__gradient'][grid.fixed_links]"
   ]
  },
  {
   "cell_type": "markdown",
   "metadata": {},
   "source": [
    "For more information on setting boundary conditions, please see the `boundary_conds` folder within `landlab/notebooks/tutorials`. "
   ]
  },
  {
   "cell_type": "markdown",
   "metadata": {},
   "source": [
    "### Click here for more <a href=\"https://landlab.readthedocs.io/en/latest/user_guide/tutorials.html\">Landlab tutorials</a>"
   ]
  },
  {
   "cell_type": "code",
   "execution_count": null,
   "metadata": {},
   "outputs": [],
   "source": []
  }
 ],
 "metadata": {
  "kernelspec": {
   "display_name": "Python 3",
   "language": "python",
   "name": "python3"
  },
  "language_info": {
   "codemirror_mode": {
    "name": "ipython",
    "version": 3
   },
   "file_extension": ".py",
   "mimetype": "text/x-python",
   "name": "python",
   "nbconvert_exporter": "python",
   "pygments_lexer": "ipython3",
   "version": "3.9.1"
  }
 },
 "nbformat": 4,
 "nbformat_minor": 1
}
