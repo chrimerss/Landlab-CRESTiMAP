{
 "cells": [
  {
   "cell_type": "code",
   "execution_count": 1,
   "id": "soviet-marathon",
   "metadata": {},
   "outputs": [],
   "source": [
    "import time\n",
    "import matplotlib\n",
    "from numpy import where\n",
    "from landlab import RasterModelGrid\n",
    "from landlab.ca.celllab_cts import Transition, CAPlotter\n",
    "from landlab.ca.raster_cts import RasterCTS"
   ]
  },
  {
   "cell_type": "code",
   "execution_count": 2,
   "id": "encouraging-reducing",
   "metadata": {},
   "outputs": [],
   "source": [
    "def setup_states():\n",
    "    \n",
    "    states= {0: 'no change',\n",
    "             1: 'ponding',\n",
    "             2: 'spreading',\n",
    "             3: 'increasing',\n",
    "             4: 'partitioning'}\n",
    "    \n",
    "    return states"
   ]
  },
  {
   "cell_type": "code",
   "execution_count": null,
   "id": "electoral-slovak",
   "metadata": {},
   "outputs": [],
   "source": [
    "def setup_transition_list():\n",
    "        \"\"\"\n",
    "        Creates and returns a list of Transition() objects to represent state\n",
    "        transitions for an unbiased random walk.\n",
    "\n",
    "        Parameters\n",
    "        ----------\n",
    "        (none)\n",
    "\n",
    "        Returns\n",
    "        -------\n",
    "        xn_list : list of Transition objects\n",
    "                List of objects that encode information about the link-state transitions.\n",
    "\n",
    "        Notes\n",
    "        -----\n",
    "        State 0 represents fluid and state 1 represents a particle (such as a\n",
    "        sediment grain, tea leaf, or solute molecule).\n",
    "\n",
    "        The states and transitions are as follows:\n",
    "\n",
    "        Pair state      Transition to       Process             Rate (cells/s)\n",
    "        ==========      =============       =======             ==============\n",
    "        0 (0-0)         (none)              -                   -\n",
    "        1 (0-1)         2 (1-0)             left/down motion    10.0\n",
    "        2 (1-0)         1 (0-1)             right/up motion     10.0\n",
    "        3 (1-1)         (none)              -                   -\n",
    "\n",
    "        \"\"\"\n",
    "\n",
    "        # Create an empty transition list\n",
    "        xn_list = []\n",
    "\n",
    "        # Append two transitions to the list.\n",
    "        # Note that the arguments to the Transition() object constructor are:\n",
    "        #  - Tuple representing starting pair state\n",
    "        #    (left/bottom cell, right/top cell, orientation)\n",
    "        #  - Tuple representing new pair state\n",
    "        #    (left/bottom cell, right/top cell, orientation)\n",
    "        #  - Transition rate (cells per time step, in this case 1 sec)\n",
    "        #  - Name for transition\n",
    "        xn_list.append( Transition((0,1,0), (1,0,0), 10., 'left/down motion') )\n",
    "        xn_list.append( Transition((1,0,0), (0,1,0), 10., 'right/up motion') )\n",
    "\n",
    "        return xn_list"
   ]
  }
 ],
 "metadata": {
  "kernelspec": {
   "display_name": "Python 3",
   "language": "python",
   "name": "python3"
  },
  "language_info": {
   "codemirror_mode": {
    "name": "ipython",
    "version": 3
   },
   "file_extension": ".py",
   "mimetype": "text/x-python",
   "name": "python",
   "nbconvert_exporter": "python",
   "pygments_lexer": "ipython3",
   "version": "3.9.1"
  }
 },
 "nbformat": 4,
 "nbformat_minor": 5
}
