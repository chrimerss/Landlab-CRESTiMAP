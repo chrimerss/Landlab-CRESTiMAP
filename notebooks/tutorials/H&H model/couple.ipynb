{
 "cells": [
  {
   "cell_type": "markdown",
   "id": "italic-planet",
   "metadata": {},
   "source": [
    "# Physical coupling of hydrologic processes\n",
    "\n",
    "This module tests the physical coupling of hydrologic processes\n",
    "\n",
    "For overland flow, we call the overlandFlow module by Bates et al. 2012\n",
    "\n",
    "For infiltration, we use our CREST model to compute ground water recharge\n",
    "\n",
    "For groundwater, we use dupuit percolator module"
   ]
  },
  {
   "cell_type": "code",
   "execution_count": 1,
   "id": "affecting-turning",
   "metadata": {},
   "outputs": [],
   "source": [
    "# initialize all necessary modules\n",
    "from landlab import Component, LinkStatus\n",
    "from landlab.components.hydrologic_model import CRESTPHYS\n",
    "from landlab.plot.imshow import imshow_grid\n",
    "from landlab.plot.colors import water_colormap\n",
    "from landlab import RasterModelGrid\n",
    "from landlab.io.esri_ascii import read_esri_ascii\n",
    "from matplotlib.pyplot import figure\n",
    "import numpy as np\n",
    "from time import time\n",
    "%matplotlib inline\n",
    "\n",
    "import xarray as xr\n",
    "import rioxarray\n",
    "import geopandas as gpd\n",
    "\n",
    "import warnings\n",
    "warnings.filterwarnings(\"ignore\", category=DeprecationWarning)"
   ]
  },
  {
   "cell_type": "code",
   "execution_count": 2,
   "id": "marked-helena",
   "metadata": {},
   "outputs": [],
   "source": [
    "basin_shp= gpd.read_file('/Users/allen/OneDrive - University of Oklahoma/CRESTHH/subbasins/08076700.shp',\n",
    "                         crs='EPSG:4326')\n",
    "basin_shp= basin_shp.set_crs('EPSG:4326')\n",
    "basin_shp= basin_shp.to_crs('EPSG:32215')"
   ]
  },
  {
   "cell_type": "code",
   "execution_count": 3,
   "id": "challenging-saying",
   "metadata": {},
   "outputs": [],
   "source": [
    "dem_region= rioxarray.open_rasterio('/Users/allen/OneDrive - University of Oklahoma/CRESTHH/Case study - Harvey/CRM_Houston_NAm83/DEM_100m.tif')\n",
    "# dem_region= rioxarray.open_rasterio('/Users/allen/OneDrive - University of Oklahoma/CRESTHH/Case study - Harvey/demHouston033s_NAm83.tif/demHouston033s_NAm83.tif')\n",
    "dem_region= dem_region.rio.write_crs('EPSG:4326')\n",
    "dem_region= dem_region.rio.reproject('EPSG:32215')"
   ]
  },
  {
   "cell_type": "code",
   "execution_count": 4,
   "id": "prerequisite-tongue",
   "metadata": {},
   "outputs": [],
   "source": [
    "basin_dem= dem_region.rio.clip(basin_shp.geometry,\n",
    "                               basin_shp.crs).squeeze().sortby('y', ascending=True)"
   ]
  },
  {
   "cell_type": "code",
   "execution_count": 5,
   "id": "approved-harassment",
   "metadata": {},
   "outputs": [],
   "source": [
    "basin= RasterModelGrid(shape= basin_dem.squeeze().shape,\n",
    "                       xy_spacing=np.diff(basin_dem.x.values)[0],\n",
    "                       xy_of_lower_left= [basin_dem.x.values[0], basin_dem.y.values[0]]\n",
    "                      )\n",
    "basin.axis_units = ('m', 'm')"
   ]
  },
  {
   "cell_type": "code",
   "execution_count": 6,
   "id": "worldwide-seating",
   "metadata": {},
   "outputs": [],
   "source": [
    "z= basin.add_field('topographic__elevation', basin_dem.values.astype(np.float32),\n",
    "                   at=\"node\", clobber=True, dtype=float)\n",
    "z= basin.add_field('surface_water__elevation', basin_dem.values.astype(np.float32)+0.0001,\n",
    "                   at=\"node\", clobber=True, dtype=float)\n",
    "z= basin.add_field('aquifer_base__elevation', basin_dem.values.astype(np.float32)-30,\n",
    "                   at=\"node\", clobber=True, dtype=float)\n",
    "z= basin.add_field('ground_water__elevation', basin_dem.values.astype(np.float32)-30,\n",
    "                   at=\"node\", clobber=True, dtype=float)"
   ]
  },
  {
   "cell_type": "code",
   "execution_count": 7,
   "id": "humanitarian-thread",
   "metadata": {},
   "outputs": [],
   "source": [
    "def load_param(path, lons=basin_dem.x.values, lats=basin_dem.y.values):\n",
    "    param= rioxarray.open_rasterio(path)\n",
    "    param= param.rio.write_crs('EPSG:4326').rio.reproject('EPSG:32215')\n",
    "    param= param.sel(x= lons, y=lats, method='nearest')\n",
    "    return param.values\n",
    "    "
   ]
  },
  {
   "cell_type": "code",
   "execution_count": 8,
   "id": "happy-illness",
   "metadata": {},
   "outputs": [],
   "source": [
    "basin.status_at_node[basin.nodes_at_bottom_edge] = basin.BC_NODE_IS_FIXED_VALUE\n",
    "basin.status_at_node[np.isclose(z, basin_dem._FillValue)] = basin.BC_NODE_IS_CLOSED\n",
    "basin.set_watershed_boundary_condition_outlet_id(8954, 'topographic__elevation')"
   ]
  },
  {
   "cell_type": "code",
   "execution_count": 9,
   "id": "boring-rhythm",
   "metadata": {},
   "outputs": [],
   "source": [
    "param= load_param('/Users/allen/OneDrive - University of Oklahoma/CRESTHH/data/params/params_b_usa.tif')\n",
    "_= basin.add_field('B__param', param, at=\"node\", dtype=np.float32,clobber=True)\n",
    "param= load_param('/Users/allen/OneDrive - University of Oklahoma/CRESTHH/data/params/params_wm_usa.tif')\n",
    "_= basin.add_field('WM__param', param, at=\"node\", units='mm',clobber=True, dtype=np.float32)\n",
    "param= load_param('/Users/allen/OneDrive - University of Oklahoma/CRESTHH/data/params/params_ksat_usa.tif')\n",
    "_= basin.add_field('Ksat_soil__param', param, at=\"node\", units='mm/hr',clobber=True, dtype=np.float32)\n",
    "param= load_param('/Users/allen/OneDrive - University of Oklahoma/CRESTHH/data/params/params_im_usa.tif')\n",
    "_= basin.add_field('IM__param', param, at=\"node\", units='%',clobber=True, dtype=np.float32)\n",
    "param= load_param('/Users/allen/OneDrive - University of Oklahoma/CRESTHH/data/sm.20170826.120000.tif')\n",
    "_= basin.add_zeros('soil_moisture__content', at=\"node\", units='%',clobber=True, dtype=np.float32)\n",
    "param= load_param('/Users/allen/OneDrive - University of Oklahoma/CRESTHH/data/friction/manningn.tif')\n",
    "_= basin.add_field('manning_n__param', param, at=\"node\",clobber=True, dtype=np.float32)\n",
    "_= basin.add_ones('KE__param', at=\"node\",clobber=True, dtype=np.float32)\n",
    "_= basin.add_ones('Ksat_groundwater__param', at=\"link\",clobber=True, dtype=np.float32)\n",
    "basin.at_link['Ksat_groundwater__param']*=0.003\n"
   ]
  },
  {
   "cell_type": "code",
   "execution_count": 10,
   "id": "grand-tournament",
   "metadata": {},
   "outputs": [],
   "source": [
    "_= basin.add_ones('Ksat_groundwater__param', at=\"link\",clobber=True, dtype=np.float32)\n",
    "basin.at_link['Ksat_groundwater__param']*=0.003"
   ]
  },
  {
   "cell_type": "code",
   "execution_count": 11,
   "id": "stuck-excerpt",
   "metadata": {},
   "outputs": [],
   "source": [
    "def map_to_grid(fname, lons, lats, proj):\n",
    "    field= rioxarray.open_rasterio(fname)\n",
    "    field= field.rio.write_crs('EPSG:4326').rio.reproject(proj)\n",
    "    field= field.sel(x=lons, y= lats, method='nearest')\n",
    "\n",
    "    return field.values"
   ]
  },
  {
   "cell_type": "code",
   "execution_count": 12,
   "id": "developmental-roots",
   "metadata": {
    "scrolled": true,
    "tags": []
   },
   "outputs": [
    {
     "name": "stdout",
     "output_type": "stream",
     "text": [
      "2017-08-26 00:00:01\n",
      "2017-08-26 01:00:01\n",
      "2017-08-26 02:00:01\n",
      "2017-08-26 03:00:01\n",
      "2017-08-26 04:00:01\n",
      "2017-08-26 05:00:01\n",
      "2017-08-26 06:00:01\n",
      "2017-08-26 07:00:01\n",
      "2017-08-26 08:00:01\n",
      "2017-08-26 09:00:01\n",
      "2017-08-26 10:00:01\n",
      "2017-08-26 11:00:01\n",
      "2017-08-26 12:00:01\n",
      "2017-08-26 13:00:01\n",
      "2017-08-26 14:00:01\n",
      "2017-08-26 15:00:01\n",
      "2017-08-26 16:00:01\n",
      "2017-08-26 17:00:01\n",
      "2017-08-26 18:00:01\n",
      "2017-08-26 19:00:01\n",
      "2017-08-26 20:00:01\n",
      "2017-08-26 21:00:01\n",
      "2017-08-26 22:00:01\n",
      "2017-08-26 23:00:01\n",
      "2017-08-27 00:00:01\n",
      "2017-08-27 01:00:01\n",
      "2017-08-27 02:00:01\n",
      "2017-08-27 03:00:01\n",
      "2017-08-27 04:00:01\n",
      "2017-08-27 05:00:01\n",
      "2017-08-27 06:00:01\n",
      "2017-08-27 07:00:01\n",
      "2017-08-27 08:00:01\n",
      "2017-08-27 09:00:01\n",
      "2017-08-27 10:00:01\n",
      "2017-08-27 11:00:01\n",
      "2017-08-27 12:00:01\n",
      "2017-08-27 13:00:01\n",
      "2017-08-27 14:00:01\n",
      "2017-08-27 15:00:01\n",
      "2017-08-27 16:00:01\n",
      "2017-08-27 17:00:01\n",
      "2017-08-27 18:00:01\n",
      "2017-08-27 19:00:01\n",
      "2017-08-27 20:00:01\n",
      "2017-08-27 21:00:01\n",
      "2017-08-27 22:00:01\n",
      "2017-08-27 23:00:01\n",
      "2017-08-28 00:00:01\n",
      "2017-08-28 01:00:01\n",
      "2017-08-28 02:00:01\n",
      "2017-08-28 03:00:01\n",
      "2017-08-28 04:00:01\n",
      "2017-08-28 05:00:01\n",
      "2017-08-28 06:00:01\n",
      "2017-08-28 07:00:01\n",
      "2017-08-28 08:00:01\n",
      "2017-08-28 09:00:01\n",
      "2017-08-28 10:00:01\n",
      "2017-08-28 11:00:01\n",
      "2017-08-28 12:00:01\n",
      "2017-08-28 13:00:01\n",
      "2017-08-28 14:00:01\n",
      "2017-08-28 15:00:01\n",
      "2017-08-28 16:00:01\n",
      "2017-08-28 17:00:01\n",
      "2017-08-28 18:00:01\n",
      "2017-08-28 19:00:01\n",
      "2017-08-28 20:00:01\n",
      "2017-08-28 21:00:01\n",
      "2017-08-28 22:00:01\n",
      "2017-08-28 23:00:01\n",
      "2017-08-29 00:00:01\n",
      "2017-08-29 01:00:01\n",
      "2017-08-29 02:00:01\n",
      "2017-08-29 03:00:01\n",
      "2017-08-29 04:00:01\n",
      "2017-08-29 05:00:01\n",
      "2017-08-29 06:00:01\n",
      "2017-08-29 07:00:01\n",
      "2017-08-29 08:00:01\n",
      "2017-08-29 09:00:01\n"
     ]
    },
    {
     "ename": "KeyboardInterrupt",
     "evalue": "",
     "output_type": "error",
     "traceback": [
      "\u001b[0;31m---------------------------------------------------------------------------\u001b[0m",
      "\u001b[0;31mKeyboardInterrupt\u001b[0m                         Traceback (most recent call last)",
      "\u001b[0;32m<ipython-input-12-5814c491a1da>\u001b[0m in \u001b[0;36m<module>\u001b[0;34m\u001b[0m\n\u001b[1;32m      8\u001b[0m     \u001b[0mfname\u001b[0m\u001b[0;34m=\u001b[0m \u001b[0mdatetime\u001b[0m\u001b[0;34m.\u001b[0m\u001b[0mstrftime\u001b[0m\u001b[0;34m(\u001b[0m\u001b[0;34m'/Users/allen/OneDrive - University of Oklahoma/CRESTHH/data/evap/cov_et%y%m%d.asc.tif'\u001b[0m\u001b[0;34m)\u001b[0m\u001b[0;34m\u001b[0m\u001b[0;34m\u001b[0m\u001b[0m\n\u001b[1;32m      9\u001b[0m     \u001b[0mmodel\u001b[0m\u001b[0;34m.\u001b[0m\u001b[0mevap\u001b[0m\u001b[0;34m=\u001b[0m \u001b[0mmap_to_grid\u001b[0m\u001b[0;34m(\u001b[0m\u001b[0mfname\u001b[0m\u001b[0;34m,\u001b[0m \u001b[0mlons\u001b[0m\u001b[0;34m,\u001b[0m \u001b[0mlats\u001b[0m\u001b[0;34m,\u001b[0m \u001b[0;34m'EPSG:32215'\u001b[0m\u001b[0;34m)\u001b[0m\u001b[0;34m/\u001b[0m\u001b[0;36m3600.\u001b[0m\u001b[0;34m/\u001b[0m\u001b[0;36m24.\u001b[0m\u001b[0;34m\u001b[0m\u001b[0;34m\u001b[0m\u001b[0m\n\u001b[0;32m---> 10\u001b[0;31m     \u001b[0mmodel\u001b[0m\u001b[0;34m.\u001b[0m\u001b[0mrun_one_step\u001b[0m\u001b[0;34m(\u001b[0m\u001b[0mdt\u001b[0m\u001b[0;34m=\u001b[0m \u001b[0;36m3600\u001b[0m\u001b[0;34m)\u001b[0m\u001b[0;34m\u001b[0m\u001b[0;34m\u001b[0m\u001b[0m\n\u001b[0m\u001b[1;32m     11\u001b[0m \u001b[0;31m#     print()\u001b[0m\u001b[0;34m\u001b[0m\u001b[0;34m\u001b[0m\u001b[0;34m\u001b[0m\u001b[0m\n",
      "\u001b[0;32m~/Documents/Python/landlab/landlab/components/hydrologic_model/crest_phys.py\u001b[0m in \u001b[0;36mrun_one_step\u001b[0;34m(self, dt)\u001b[0m\n\u001b[1;32m    296\u001b[0m         \u001b[0mself\u001b[0m\u001b[0;34m.\u001b[0m\u001b[0m_gw\u001b[0m\u001b[0;34m.\u001b[0m\u001b[0mrecharge\u001b[0m\u001b[0;34m=\u001b[0m \u001b[0;34m(\u001b[0m\u001b[0mrecharge\u001b[0m\u001b[0;34m/\u001b[0m\u001b[0;36m1000.\u001b[0m\u001b[0;34m)\u001b[0m\u001b[0;34m/\u001b[0m\u001b[0mdt\u001b[0m\u001b[0;34m\u001b[0m\u001b[0;34m\u001b[0m\u001b[0m\n\u001b[1;32m    297\u001b[0m \u001b[0;31m#         print('zgw before:', self._grid['node']['ground_water__elevation'][self._grid.core_nodes])\u001b[0m\u001b[0;34m\u001b[0m\u001b[0;34m\u001b[0m\u001b[0;34m\u001b[0m\u001b[0m\n\u001b[0;32m--> 298\u001b[0;31m         \u001b[0mself\u001b[0m\u001b[0;34m.\u001b[0m\u001b[0m_router\u001b[0m\u001b[0;34m.\u001b[0m\u001b[0mrun_one_step\u001b[0m\u001b[0;34m(\u001b[0m\u001b[0mdt\u001b[0m\u001b[0;34m)\u001b[0m\u001b[0;34m\u001b[0m\u001b[0;34m\u001b[0m\u001b[0m\n\u001b[0m\u001b[1;32m    299\u001b[0m \u001b[0;31m#         print('zsf after:', self._grid['node']['surface_water__elevation'][self._grid.core_nodes])\u001b[0m\u001b[0;34m\u001b[0m\u001b[0;34m\u001b[0m\u001b[0;34m\u001b[0m\u001b[0m\n\u001b[1;32m    300\u001b[0m         \u001b[0mself\u001b[0m\u001b[0;34m.\u001b[0m\u001b[0m_gw\u001b[0m\u001b[0;34m.\u001b[0m\u001b[0mrun_with_adaptive_time_step_solver\u001b[0m\u001b[0;34m(\u001b[0m\u001b[0mdt\u001b[0m\u001b[0;34m)\u001b[0m\u001b[0;34m\u001b[0m\u001b[0;34m\u001b[0m\u001b[0m\n",
      "\u001b[0;32m~/Documents/Python/landlab/landlab/components/hydrologic_model/overland.py\u001b[0m in \u001b[0;36mrun_one_step\u001b[0;34m(self, dt)\u001b[0m\n\u001b[1;32m    786\u001b[0m         \u001b[0mevery\u001b[0m \u001b[0mpoint\u001b[0m \u001b[0;32min\u001b[0m \u001b[0mthe\u001b[0m \u001b[0minput\u001b[0m \u001b[0mgrid\u001b[0m\u001b[0;34m.\u001b[0m\u001b[0;34m\u001b[0m\u001b[0;34m\u001b[0m\u001b[0m\n\u001b[1;32m    787\u001b[0m         \"\"\"\n\u001b[0;32m--> 788\u001b[0;31m         \u001b[0mself\u001b[0m\u001b[0;34m.\u001b[0m\u001b[0moverland_flow\u001b[0m\u001b[0;34m(\u001b[0m\u001b[0mdt\u001b[0m\u001b[0;34m=\u001b[0m\u001b[0mdt\u001b[0m\u001b[0;34m)\u001b[0m\u001b[0;34m\u001b[0m\u001b[0;34m\u001b[0m\u001b[0m\n\u001b[0m\u001b[1;32m    789\u001b[0m \u001b[0;34m\u001b[0m\u001b[0m\n\u001b[1;32m    790\u001b[0m     \u001b[0;32mdef\u001b[0m \u001b[0mdischarge_mapper\u001b[0m\u001b[0;34m(\u001b[0m\u001b[0mself\u001b[0m\u001b[0;34m,\u001b[0m \u001b[0minput_discharge\u001b[0m\u001b[0;34m,\u001b[0m \u001b[0mconvert_to_volume\u001b[0m\u001b[0;34m=\u001b[0m\u001b[0;32mFalse\u001b[0m\u001b[0;34m)\u001b[0m\u001b[0;34m:\u001b[0m\u001b[0;34m\u001b[0m\u001b[0;34m\u001b[0m\u001b[0m\n",
      "\u001b[0;32m~/Documents/Python/landlab/landlab/components/hydrologic_model/overland.py\u001b[0m in \u001b[0;36moverland_flow\u001b[0;34m(self, dt)\u001b[0m\n\u001b[1;32m    697\u001b[0m                 \u001b[0mself\u001b[0m\u001b[0;34m.\u001b[0m\u001b[0m_if_statement_1\u001b[0m \u001b[0;34m=\u001b[0m \u001b[0mnp\u001b[0m\u001b[0;34m.\u001b[0m\u001b[0mintersect1d\u001b[0m\u001b[0;34m(\u001b[0m\u001b[0mpositive_q\u001b[0m\u001b[0;34m,\u001b[0m \u001b[0mFroude_logical\u001b[0m\u001b[0;34m)\u001b[0m\u001b[0;34m\u001b[0m\u001b[0;34m\u001b[0m\u001b[0m\n\u001b[1;32m    698\u001b[0m                 \u001b[0mself\u001b[0m\u001b[0;34m.\u001b[0m\u001b[0m_if_statement_2\u001b[0m \u001b[0;34m=\u001b[0m \u001b[0mnp\u001b[0m\u001b[0;34m.\u001b[0m\u001b[0mintersect1d\u001b[0m\u001b[0;34m(\u001b[0m\u001b[0mnegative_q\u001b[0m\u001b[0;34m,\u001b[0m \u001b[0mFroude_abs_logical\u001b[0m\u001b[0;34m)\u001b[0m\u001b[0;34m\u001b[0m\u001b[0;34m\u001b[0m\u001b[0m\n\u001b[0;32m--> 699\u001b[0;31m                 \u001b[0mself\u001b[0m\u001b[0;34m.\u001b[0m\u001b[0m_if_statement_3\u001b[0m \u001b[0;34m=\u001b[0m \u001b[0mnp\u001b[0m\u001b[0;34m.\u001b[0m\u001b[0mintersect1d\u001b[0m\u001b[0;34m(\u001b[0m\u001b[0mpositive_q\u001b[0m\u001b[0;34m,\u001b[0m \u001b[0mwater_logical\u001b[0m\u001b[0;34m)\u001b[0m\u001b[0;34m\u001b[0m\u001b[0;34m\u001b[0m\u001b[0m\n\u001b[0m\u001b[1;32m    700\u001b[0m                 \u001b[0mself\u001b[0m\u001b[0;34m.\u001b[0m\u001b[0m_if_statement_4\u001b[0m \u001b[0;34m=\u001b[0m \u001b[0mnp\u001b[0m\u001b[0;34m.\u001b[0m\u001b[0mintersect1d\u001b[0m\u001b[0;34m(\u001b[0m\u001b[0mnegative_q\u001b[0m\u001b[0;34m,\u001b[0m \u001b[0mwater_abs_logical\u001b[0m\u001b[0;34m)\u001b[0m\u001b[0;34m\u001b[0m\u001b[0;34m\u001b[0m\u001b[0m\n\u001b[1;32m    701\u001b[0m \u001b[0;34m\u001b[0m\u001b[0m\n",
      "\u001b[0;32m<__array_function__ internals>\u001b[0m in \u001b[0;36mintersect1d\u001b[0;34m(*args, **kwargs)\u001b[0m\n",
      "\u001b[0;32m~/miniconda3/envs/landlab_dev/lib/python3.9/site-packages/numpy/lib/arraysetops.py\u001b[0m in \u001b[0;36mintersect1d\u001b[0;34m(ar1, ar2, assume_unique, return_indices)\u001b[0m\n\u001b[1;32m    417\u001b[0m             \u001b[0mar2\u001b[0m\u001b[0;34m,\u001b[0m \u001b[0mind2\u001b[0m \u001b[0;34m=\u001b[0m \u001b[0munique\u001b[0m\u001b[0;34m(\u001b[0m\u001b[0mar2\u001b[0m\u001b[0;34m,\u001b[0m \u001b[0mreturn_index\u001b[0m\u001b[0;34m=\u001b[0m\u001b[0;32mTrue\u001b[0m\u001b[0;34m)\u001b[0m\u001b[0;34m\u001b[0m\u001b[0;34m\u001b[0m\u001b[0m\n\u001b[1;32m    418\u001b[0m         \u001b[0;32melse\u001b[0m\u001b[0;34m:\u001b[0m\u001b[0;34m\u001b[0m\u001b[0;34m\u001b[0m\u001b[0m\n\u001b[0;32m--> 419\u001b[0;31m             \u001b[0mar1\u001b[0m \u001b[0;34m=\u001b[0m \u001b[0munique\u001b[0m\u001b[0;34m(\u001b[0m\u001b[0mar1\u001b[0m\u001b[0;34m)\u001b[0m\u001b[0;34m\u001b[0m\u001b[0;34m\u001b[0m\u001b[0m\n\u001b[0m\u001b[1;32m    420\u001b[0m             \u001b[0mar2\u001b[0m \u001b[0;34m=\u001b[0m \u001b[0munique\u001b[0m\u001b[0;34m(\u001b[0m\u001b[0mar2\u001b[0m\u001b[0;34m)\u001b[0m\u001b[0;34m\u001b[0m\u001b[0;34m\u001b[0m\u001b[0m\n\u001b[1;32m    421\u001b[0m     \u001b[0;32melse\u001b[0m\u001b[0;34m:\u001b[0m\u001b[0;34m\u001b[0m\u001b[0;34m\u001b[0m\u001b[0m\n",
      "\u001b[0;32m<__array_function__ internals>\u001b[0m in \u001b[0;36munique\u001b[0;34m(*args, **kwargs)\u001b[0m\n",
      "\u001b[0;32m~/miniconda3/envs/landlab_dev/lib/python3.9/site-packages/numpy/lib/arraysetops.py\u001b[0m in \u001b[0;36munique\u001b[0;34m(ar, return_index, return_inverse, return_counts, axis)\u001b[0m\n\u001b[1;32m    260\u001b[0m     \u001b[0mar\u001b[0m \u001b[0;34m=\u001b[0m \u001b[0mnp\u001b[0m\u001b[0;34m.\u001b[0m\u001b[0masanyarray\u001b[0m\u001b[0;34m(\u001b[0m\u001b[0mar\u001b[0m\u001b[0;34m)\u001b[0m\u001b[0;34m\u001b[0m\u001b[0;34m\u001b[0m\u001b[0m\n\u001b[1;32m    261\u001b[0m     \u001b[0;32mif\u001b[0m \u001b[0maxis\u001b[0m \u001b[0;32mis\u001b[0m \u001b[0;32mNone\u001b[0m\u001b[0;34m:\u001b[0m\u001b[0;34m\u001b[0m\u001b[0;34m\u001b[0m\u001b[0m\n\u001b[0;32m--> 262\u001b[0;31m         \u001b[0mret\u001b[0m \u001b[0;34m=\u001b[0m \u001b[0m_unique1d\u001b[0m\u001b[0;34m(\u001b[0m\u001b[0mar\u001b[0m\u001b[0;34m,\u001b[0m \u001b[0mreturn_index\u001b[0m\u001b[0;34m,\u001b[0m \u001b[0mreturn_inverse\u001b[0m\u001b[0;34m,\u001b[0m \u001b[0mreturn_counts\u001b[0m\u001b[0;34m)\u001b[0m\u001b[0;34m\u001b[0m\u001b[0;34m\u001b[0m\u001b[0m\n\u001b[0m\u001b[1;32m    263\u001b[0m         \u001b[0;32mreturn\u001b[0m \u001b[0m_unpack_tuple\u001b[0m\u001b[0;34m(\u001b[0m\u001b[0mret\u001b[0m\u001b[0;34m)\u001b[0m\u001b[0;34m\u001b[0m\u001b[0;34m\u001b[0m\u001b[0m\n\u001b[1;32m    264\u001b[0m \u001b[0;34m\u001b[0m\u001b[0m\n",
      "\u001b[0;32m~/miniconda3/envs/landlab_dev/lib/python3.9/site-packages/numpy/lib/arraysetops.py\u001b[0m in \u001b[0;36m_unique1d\u001b[0;34m(ar, return_index, return_inverse, return_counts)\u001b[0m\n\u001b[1;32m    325\u001b[0m     \u001b[0mmask\u001b[0m \u001b[0;34m=\u001b[0m \u001b[0mnp\u001b[0m\u001b[0;34m.\u001b[0m\u001b[0mempty\u001b[0m\u001b[0;34m(\u001b[0m\u001b[0maux\u001b[0m\u001b[0;34m.\u001b[0m\u001b[0mshape\u001b[0m\u001b[0;34m,\u001b[0m \u001b[0mdtype\u001b[0m\u001b[0;34m=\u001b[0m\u001b[0mnp\u001b[0m\u001b[0;34m.\u001b[0m\u001b[0mbool_\u001b[0m\u001b[0;34m)\u001b[0m\u001b[0;34m\u001b[0m\u001b[0;34m\u001b[0m\u001b[0m\n\u001b[1;32m    326\u001b[0m     \u001b[0mmask\u001b[0m\u001b[0;34m[\u001b[0m\u001b[0;34m:\u001b[0m\u001b[0;36m1\u001b[0m\u001b[0;34m]\u001b[0m \u001b[0;34m=\u001b[0m \u001b[0;32mTrue\u001b[0m\u001b[0;34m\u001b[0m\u001b[0;34m\u001b[0m\u001b[0m\n\u001b[0;32m--> 327\u001b[0;31m     \u001b[0mmask\u001b[0m\u001b[0;34m[\u001b[0m\u001b[0;36m1\u001b[0m\u001b[0;34m:\u001b[0m\u001b[0;34m]\u001b[0m \u001b[0;34m=\u001b[0m \u001b[0maux\u001b[0m\u001b[0;34m[\u001b[0m\u001b[0;36m1\u001b[0m\u001b[0;34m:\u001b[0m\u001b[0;34m]\u001b[0m \u001b[0;34m!=\u001b[0m \u001b[0maux\u001b[0m\u001b[0;34m[\u001b[0m\u001b[0;34m:\u001b[0m\u001b[0;34m-\u001b[0m\u001b[0;36m1\u001b[0m\u001b[0;34m]\u001b[0m\u001b[0;34m\u001b[0m\u001b[0;34m\u001b[0m\u001b[0m\n\u001b[0m\u001b[1;32m    328\u001b[0m \u001b[0;34m\u001b[0m\u001b[0m\n\u001b[1;32m    329\u001b[0m     \u001b[0mret\u001b[0m \u001b[0;34m=\u001b[0m \u001b[0;34m(\u001b[0m\u001b[0maux\u001b[0m\u001b[0;34m[\u001b[0m\u001b[0mmask\u001b[0m\u001b[0;34m]\u001b[0m\u001b[0;34m,\u001b[0m\u001b[0;34m)\u001b[0m\u001b[0;34m\u001b[0m\u001b[0;34m\u001b[0m\u001b[0m\n",
      "\u001b[0;31mKeyboardInterrupt\u001b[0m: "
     ]
    }
   ],
   "source": [
    "model= CRESTPHYS(basin, proj='EPSG:32215')\n",
    "lons= model.lons; lats=model.lats\n",
    "for t in range(1,3600*24*7, 3600):\n",
    "    datetime= pd.to_datetime('20170826000000') + pd.Timedelta(seconds=t)\n",
    "    print(datetime)    \n",
    "    fname= datetime.strftime('/Users/allen/OneDrive - University of Oklahoma/CRESTHH/data/mrms201708/PrecipRate_00.00_%Y%m%d-%H%M00.grib2-var0-z0.tif')\n",
    "    model.precip= map_to_grid(fname, lons, lats, 'EPSG:32215')/3600.\n",
    "    fname= datetime.strftime('/Users/allen/OneDrive - University of Oklahoma/CRESTHH/data/evap/cov_et%y%m%d.asc.tif')\n",
    "    model.evap= map_to_grid(fname, lons, lats, 'EPSG:32215')/3600./24.\n",
    "    model.run_one_step(dt= 3600)\n",
    "#     print()"
   ]
  },
  {
   "cell_type": "code",
   "execution_count": null,
   "id": "certified-dancing",
   "metadata": {},
   "outputs": [],
   "source": [
    "imshow_grid(basin, model.precip)"
   ]
  },
  {
   "cell_type": "code",
   "execution_count": null,
   "id": "relative-begin",
   "metadata": {},
   "outputs": [],
   "source": [
    "(basin['node']['surface_water__elevation']-basin['node']['topographic__elevation'])[basin.core_nodes]"
   ]
  },
  {
   "cell_type": "code",
   "execution_count": 13,
   "id": "bridal-thumb",
   "metadata": {},
   "outputs": [
    {
     "name": "stderr",
     "output_type": "stream",
     "text": [
      "/Users/allen/Documents/Python/landlab/landlab/plot/imshow.py:267: MatplotlibDeprecationWarning: You are modifying the state of a globally registered colormap. In future versions, you will not be able to modify a registered colormap in-place. To remove this warning, you can make a copy of the colormap first. cmap = copy.copy(mpl.cm.get_cmap(\"pink\"))\n",
      "  cmap.set_bad(color=color_for_closed)\n",
      "/Users/allen/Documents/Python/landlab/landlab/plot/imshow.py:307: MatplotlibDeprecationWarning: The 'norm' parameter to Colorbar has no effect because it is overridden by the mappable; it is deprecated since 3.3 and will be removed two minor releases later.\n",
      "  cb = plt.colorbar(norm=norm, shrink=shrink)\n"
     ]
    },
    {
     "data": {
      "image/png": "[encoded data removed]",
      "text/plain": [
       "<Figure size 432x288 with 2 Axes>"
      ]
     },
     "metadata": {
      "needs_background": "light"
     },
     "output_type": "display_data"
    }
   ],
   "source": [
    "imshow_grid(basin, basin['node']['surface_water__elevation']-basin['node']['topographic__elevation'])"
   ]
  },
  {
   "cell_type": "code",
   "execution_count": null,
   "id": "entire-hometown",
   "metadata": {},
   "outputs": [],
   "source": [
    "basin['node']['surface_water__elevation'][basin._core_nodes]"
   ]
  },
  {
   "cell_type": "code",
   "execution_count": 14,
   "id": "sporting-sixth",
   "metadata": {},
   "outputs": [
    {
     "name": "stderr",
     "output_type": "stream",
     "text": [
      "/Users/allen/Documents/Python/landlab/landlab/plot/imshow.py:267: MatplotlibDeprecationWarning: You are modifying the state of a globally registered colormap. In future versions, you will not be able to modify a registered colormap in-place. To remove this warning, you can make a copy of the colormap first. cmap = copy.copy(mpl.cm.get_cmap(\"seismic\"))\n",
      "  cmap.set_bad(color=color_for_closed)\n"
     ]
    },
    {
     "data": {
      "image/png": "[encoded data removed]",
      "text/plain": [
       "<Figure size 432x288 with 2 Axes>"
      ]
     },
     "metadata": {
      "needs_background": "light"
     },
     "output_type": "display_data"
    }
   ],
   "source": [
    "imshow_grid(basin, basin['node']['ground_water__elevation']-\\\n",
    "            basin['node']['aquifer_base__elevation'],\n",
    "            cmap='seismic')"
   ]
  },
  {
   "cell_type": "code",
   "execution_count": 18,
   "id": "comparable-seafood",
   "metadata": {},
   "outputs": [
    {
     "data": {
      "text/plain": [
       "[<matplotlib.lines.Line2D at 0x7f9788435700>]"
      ]
     },
     "execution_count": 18,
     "metadata": {},
     "output_type": "execute_result"
    },
    {
     "data": {
      "text/plain": [
       "[<matplotlib.lines.Line2D at 0x7f9788435ac0>]"
      ]
     },
     "execution_count": 18,
     "metadata": {},
     "output_type": "execute_result"
    },
    {
     "data": {
      "image/png": "[encoded data removed]",
      "text/plain": [
       "<Figure size 432x288 with 1 Axes>"
      ]
     },
     "metadata": {
      "needs_background": "light"
     },
     "output_type": "display_data"
    }
   ],
   "source": [
    "plt.plot((basin['node']['ground_water__elevation']).reshape(basin.shape)[100,160:400])\n",
    "plt.plot((basin['node']['aquifer_base__elevation']).reshape(basin.shape)[100,160:400])"
   ]
  },
  {
   "cell_type": "code",
   "execution_count": 19,
   "id": "impossible-blair",
   "metadata": {},
   "outputs": [],
   "source": [
    "from landlab.components import ChannelProfiler"
   ]
  },
  {
   "cell_type": "code",
   "execution_count": null,
   "id": "combined-context",
   "metadata": {},
   "outputs": [],
   "source": []
  },
  {
   "cell_type": "code",
   "execution_count": 15,
   "id": "historical-prairie",
   "metadata": {},
   "outputs": [
    {
     "data": {
      "image/png": "[encoded data removed]",
      "text/plain": [
       "<Figure size 432x288 with 2 Axes>"
      ]
     },
     "metadata": {
      "needs_background": "light"
     },
     "output_type": "display_data"
    }
   ],
   "source": [
    "imshow_grid(basin, 'soil_moisture__content')"
   ]
  },
  {
   "cell_type": "code",
   "execution_count": null,
   "id": "greatest-ending",
   "metadata": {},
   "outputs": [],
   "source": [
    "basin['node']['surface_water__elevation'][basin.core_nodes]"
   ]
  },
  {
   "cell_type": "code",
   "execution_count": null,
   "id": "upper-gates",
   "metadata": {},
   "outputs": [],
   "source": [
    "imshow_grid(basin, 'B__param')"
   ]
  },
  {
   "cell_type": "code",
   "execution_count": null,
   "id": "embedded-portrait",
   "metadata": {},
   "outputs": [],
   "source": [
    "basin.__dict__"
   ]
  },
  {
   "cell_type": "markdown",
   "id": "norman-vatican",
   "metadata": {},
   "source": [
    "# Test overland flow generation process"
   ]
  },
  {
   "cell_type": "code",
   "execution_count": null,
   "id": "worldwide-updating",
   "metadata": {},
   "outputs": [],
   "source": [
    "boundaries = {'top': 'closed','bottom': 'open','right':'closed','left':'closed'}\n",
    "basin= RasterModelGrid((100,160), xy_spacing=10.0, xy_axis_units='-',bc= boundaries)"
   ]
  },
  {
   "cell_type": "code",
   "execution_count": null,
   "id": "acting-constraint",
   "metadata": {},
   "outputs": [],
   "source": [
    "def construct_topo(x,y):\n",
    "    #z(500,800)=0\n",
    "    z= abs(800-x)*0.05+(1000-y)*0.02\n",
    "    return z\n",
    "dem= np.array([construct_topo(_x,_y) for _y in range(0,1000,10) for _x in range(0,1600,10)]).reshape(basin.shape)\n",
    "# dem[:80,:50]"
   ]
  },
  {
   "cell_type": "code",
   "execution_count": null,
   "id": "ranking-harvey",
   "metadata": {},
   "outputs": [],
   "source": [
    "from landlab.components import OverlandFlowBates,OverlandFlow"
   ]
  },
  {
   "cell_type": "code",
   "execution_count": null,
   "id": "opponent-container",
   "metadata": {},
   "outputs": [],
   "source": [
    "z= basin.add_field('topographic__elevation', dem, clobber=True)\n",
    "z= basin.add_ones('surface_water__depth',at='node',clobber=True)\n",
    "kw= OverlandFlow(basin, rainfall_intensity=50/3600./1000)"
   ]
  },
  {
   "cell_type": "code",
   "execution_count": null,
   "id": "alternate-decade",
   "metadata": {},
   "outputs": [],
   "source": [
    "h= []\n",
    "Q= []\n",
    "for dt in range(0,24*3600, 3600):\n",
    "    print('%d/%d'%(dt//3600, 24))\n",
    "    kw.overland_flow(dt)\n",
    "    h.append(basin['node']['surface_water__depth'].reshape(basin.shape))\n",
    "#     Q.append(basin['node']['surface_water__discharge'].reshape(basin.shape))"
   ]
  },
  {
   "cell_type": "code",
   "execution_count": null,
   "id": "matched-principal",
   "metadata": {},
   "outputs": [],
   "source": [
    "h= np.stack(h)\n",
    "# Q= np.stack(Q)"
   ]
  },
  {
   "cell_type": "code",
   "execution_count": null,
   "id": "indie-oriental",
   "metadata": {},
   "outputs": [],
   "source": [
    "h.max()"
   ]
  },
  {
   "cell_type": "code",
   "execution_count": null,
   "id": "silver-triangle",
   "metadata": {},
   "outputs": [],
   "source": [
    "np.nanmax(h[3])"
   ]
  },
  {
   "cell_type": "code",
   "execution_count": null,
   "id": "magnetic-content",
   "metadata": {},
   "outputs": [],
   "source": [
    "50/1000*24*basin.dx*basin.dy*basin.number_of_nodes"
   ]
  },
  {
   "cell_type": "code",
   "execution_count": null,
   "id": "nasty-transformation",
   "metadata": {},
   "outputs": [],
   "source": [
    "1.4*1e6*3600*24"
   ]
  },
  {
   "cell_type": "code",
   "execution_count": null,
   "id": "accomplished-university",
   "metadata": {},
   "outputs": [],
   "source": [
    "imshow_grid(basin, h[1])"
   ]
  },
  {
   "cell_type": "code",
   "execution_count": null,
   "id": "marked-deputy",
   "metadata": {},
   "outputs": [],
   "source": [
    "imshow_grid(basin, 'surface_water__depth')"
   ]
  },
  {
   "cell_type": "code",
   "execution_count": null,
   "id": "resistant-hebrew",
   "metadata": {},
   "outputs": [],
   "source": []
  }
 ],
 "metadata": {
  "kernelspec": {
   "display_name": "Python 3",
   "language": "python",
   "name": "python3"
  },
  "language_info": {
   "codemirror_mode": {
    "name": "ipython",
    "version": 3
   },
   "file_extension": ".py",
   "mimetype": "text/x-python",
   "name": "python",
   "nbconvert_exporter": "python",
   "pygments_lexer": "ipython3",
   "version": "3.9.1"
  }
 },
 "nbformat": 4,
 "nbformat_minor": 5
}
